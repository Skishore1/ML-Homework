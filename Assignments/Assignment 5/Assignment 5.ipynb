{
 "cells": [
  {
   "cell_type": "markdown",
   "id": "961d85d7",
   "metadata": {},
   "source": [
    "# Exploratory Data Analysis"
   ]
  },
  {
   "cell_type": "markdown",
   "id": "56333d6f",
   "metadata": {},
   "source": [
    "<b> Importing Libraries and Datasets"
   ]
  },
  {
   "cell_type": "code",
   "execution_count": 126,
   "id": "54ffa292",
   "metadata": {},
   "outputs": [],
   "source": [
    "import pandas as pd\n",
    "import matplotlib.pyplot as plt\n",
    "%matplotlib inline\n",
    "import numpy as np\n",
    "import seaborn as sns\n",
    "sns.set()\n",
    "import datetime as dt"
   ]
  },
  {
   "cell_type": "code",
   "execution_count": 127,
   "id": "5c458ef5",
   "metadata": {},
   "outputs": [],
   "source": [
    "df = pd.read_csv('nyc_taxi_trip_duration.csv')"
   ]
  },
  {
   "cell_type": "code",
   "execution_count": 128,
   "id": "ff813cb9",
   "metadata": {},
   "outputs": [
    {
     "data": {
      "text/html": [
       "<div>\n",
       "<style scoped>\n",
       "    .dataframe tbody tr th:only-of-type {\n",
       "        vertical-align: middle;\n",
       "    }\n",
       "\n",
       "    .dataframe tbody tr th {\n",
       "        vertical-align: top;\n",
       "    }\n",
       "\n",
       "    .dataframe thead th {\n",
       "        text-align: right;\n",
       "    }\n",
       "</style>\n",
       "<table border=\"1\" class=\"dataframe\">\n",
       "  <thead>\n",
       "    <tr style=\"text-align: right;\">\n",
       "      <th></th>\n",
       "      <th>id</th>\n",
       "      <th>vendor_id</th>\n",
       "      <th>pickup_datetime</th>\n",
       "      <th>dropoff_datetime</th>\n",
       "      <th>passenger_count</th>\n",
       "      <th>pickup_longitude</th>\n",
       "      <th>pickup_latitude</th>\n",
       "      <th>dropoff_longitude</th>\n",
       "      <th>dropoff_latitude</th>\n",
       "      <th>store_and_fwd_flag</th>\n",
       "      <th>trip_duration</th>\n",
       "    </tr>\n",
       "  </thead>\n",
       "  <tbody>\n",
       "    <tr>\n",
       "      <th>0</th>\n",
       "      <td>id1080784</td>\n",
       "      <td>2</td>\n",
       "      <td>2016-02-29 16:40:21</td>\n",
       "      <td>2016-02-29 16:47:01</td>\n",
       "      <td>1</td>\n",
       "      <td>-73.953918</td>\n",
       "      <td>40.778873</td>\n",
       "      <td>-73.963875</td>\n",
       "      <td>40.771164</td>\n",
       "      <td>N</td>\n",
       "      <td>400</td>\n",
       "    </tr>\n",
       "    <tr>\n",
       "      <th>1</th>\n",
       "      <td>id0889885</td>\n",
       "      <td>1</td>\n",
       "      <td>2016-03-11 23:35:37</td>\n",
       "      <td>2016-03-11 23:53:57</td>\n",
       "      <td>2</td>\n",
       "      <td>-73.988312</td>\n",
       "      <td>40.731743</td>\n",
       "      <td>-73.994751</td>\n",
       "      <td>40.694931</td>\n",
       "      <td>N</td>\n",
       "      <td>1100</td>\n",
       "    </tr>\n",
       "    <tr>\n",
       "      <th>2</th>\n",
       "      <td>id0857912</td>\n",
       "      <td>2</td>\n",
       "      <td>2016-02-21 17:59:33</td>\n",
       "      <td>2016-02-21 18:26:48</td>\n",
       "      <td>2</td>\n",
       "      <td>-73.997314</td>\n",
       "      <td>40.721458</td>\n",
       "      <td>-73.948029</td>\n",
       "      <td>40.774918</td>\n",
       "      <td>N</td>\n",
       "      <td>1635</td>\n",
       "    </tr>\n",
       "    <tr>\n",
       "      <th>3</th>\n",
       "      <td>id3744273</td>\n",
       "      <td>2</td>\n",
       "      <td>2016-01-05 09:44:31</td>\n",
       "      <td>2016-01-05 10:03:32</td>\n",
       "      <td>6</td>\n",
       "      <td>-73.961670</td>\n",
       "      <td>40.759720</td>\n",
       "      <td>-73.956779</td>\n",
       "      <td>40.780628</td>\n",
       "      <td>N</td>\n",
       "      <td>1141</td>\n",
       "    </tr>\n",
       "    <tr>\n",
       "      <th>4</th>\n",
       "      <td>id0232939</td>\n",
       "      <td>1</td>\n",
       "      <td>2016-02-17 06:42:23</td>\n",
       "      <td>2016-02-17 06:56:31</td>\n",
       "      <td>1</td>\n",
       "      <td>-74.017120</td>\n",
       "      <td>40.708469</td>\n",
       "      <td>-73.988182</td>\n",
       "      <td>40.740631</td>\n",
       "      <td>N</td>\n",
       "      <td>848</td>\n",
       "    </tr>\n",
       "  </tbody>\n",
       "</table>\n",
       "</div>"
      ],
      "text/plain": [
       "          id  vendor_id      pickup_datetime     dropoff_datetime  \\\n",
       "0  id1080784          2  2016-02-29 16:40:21  2016-02-29 16:47:01   \n",
       "1  id0889885          1  2016-03-11 23:35:37  2016-03-11 23:53:57   \n",
       "2  id0857912          2  2016-02-21 17:59:33  2016-02-21 18:26:48   \n",
       "3  id3744273          2  2016-01-05 09:44:31  2016-01-05 10:03:32   \n",
       "4  id0232939          1  2016-02-17 06:42:23  2016-02-17 06:56:31   \n",
       "\n",
       "   passenger_count  pickup_longitude  pickup_latitude  dropoff_longitude  \\\n",
       "0                1        -73.953918        40.778873         -73.963875   \n",
       "1                2        -73.988312        40.731743         -73.994751   \n",
       "2                2        -73.997314        40.721458         -73.948029   \n",
       "3                6        -73.961670        40.759720         -73.956779   \n",
       "4                1        -74.017120        40.708469         -73.988182   \n",
       "\n",
       "   dropoff_latitude store_and_fwd_flag  trip_duration  \n",
       "0         40.771164                  N            400  \n",
       "1         40.694931                  N           1100  \n",
       "2         40.774918                  N           1635  \n",
       "3         40.780628                  N           1141  \n",
       "4         40.740631                  N            848  "
      ]
     },
     "execution_count": 128,
     "metadata": {},
     "output_type": "execute_result"
    }
   ],
   "source": [
    "df.head()"
   ]
  },
  {
   "cell_type": "code",
   "execution_count": 129,
   "id": "778490cf",
   "metadata": {},
   "outputs": [
    {
     "data": {
      "text/plain": [
       "(729322, 11)"
      ]
     },
     "execution_count": 129,
     "metadata": {},
     "output_type": "execute_result"
    }
   ],
   "source": [
    "df.shape"
   ]
  },
  {
   "cell_type": "code",
   "execution_count": 130,
   "id": "fe6e1f06",
   "metadata": {},
   "outputs": [
    {
     "data": {
      "text/plain": [
       "Index(['id', 'vendor_id', 'pickup_datetime', 'dropoff_datetime',\n",
       "       'passenger_count', 'pickup_longitude', 'pickup_latitude',\n",
       "       'dropoff_longitude', 'dropoff_latitude', 'store_and_fwd_flag',\n",
       "       'trip_duration'],\n",
       "      dtype='object')"
      ]
     },
     "execution_count": 130,
     "metadata": {},
     "output_type": "execute_result"
    }
   ],
   "source": [
    "df.columns"
   ]
  },
  {
   "cell_type": "code",
   "execution_count": 131,
   "id": "b2d3b2b3",
   "metadata": {},
   "outputs": [
    {
     "data": {
      "text/plain": [
       "id                     object\n",
       "vendor_id               int64\n",
       "pickup_datetime        object\n",
       "dropoff_datetime       object\n",
       "passenger_count         int64\n",
       "pickup_longitude      float64\n",
       "pickup_latitude       float64\n",
       "dropoff_longitude     float64\n",
       "dropoff_latitude      float64\n",
       "store_and_fwd_flag     object\n",
       "trip_duration           int64\n",
       "dtype: object"
      ]
     },
     "execution_count": 131,
     "metadata": {},
     "output_type": "execute_result"
    }
   ],
   "source": [
    "df.dtypes"
   ]
  },
  {
   "cell_type": "markdown",
   "id": "f390509f",
   "metadata": {},
   "source": [
    "* Id, Pickup_datetime, dropoff_datetime and store_and_fwd_flag are of datatypes 'object'\n",
    "* Vendor_id, passenger_count, trip_duration are of datatypes 'int'\n",
    "* pickup_longitude, pickup_latitude, dropoff_longitude and dropoff_latitude are of datatypes 'float'"
   ]
  },
  {
   "cell_type": "code",
   "execution_count": 132,
   "id": "64088fe6",
   "metadata": {},
   "outputs": [
    {
     "data": {
      "text/plain": [
       "id                    0\n",
       "vendor_id             0\n",
       "pickup_datetime       0\n",
       "dropoff_datetime      0\n",
       "passenger_count       0\n",
       "pickup_longitude      0\n",
       "pickup_latitude       0\n",
       "dropoff_longitude     0\n",
       "dropoff_latitude      0\n",
       "store_and_fwd_flag    0\n",
       "trip_duration         0\n",
       "dtype: int64"
      ]
     },
     "execution_count": 132,
     "metadata": {},
     "output_type": "execute_result"
    }
   ],
   "source": [
    "df.isnull().sum()"
   ]
  },
  {
   "cell_type": "markdown",
   "id": "b18b1b0d",
   "metadata": {},
   "source": [
    "* There are no null values in any of the features in this dataset"
   ]
  },
  {
   "cell_type": "code",
   "execution_count": 133,
   "id": "c08f45b3",
   "metadata": {},
   "outputs": [
    {
     "data": {
      "text/plain": [
       "id                    729322\n",
       "vendor_id                  2\n",
       "pickup_datetime       709359\n",
       "dropoff_datetime      709308\n",
       "passenger_count            9\n",
       "pickup_longitude       19729\n",
       "pickup_latitude        39776\n",
       "dropoff_longitude      27892\n",
       "dropoff_latitude       53579\n",
       "store_and_fwd_flag         2\n",
       "trip_duration           6296\n",
       "dtype: int64"
      ]
     },
     "execution_count": 133,
     "metadata": {},
     "output_type": "execute_result"
    }
   ],
   "source": [
    "df.nunique()"
   ]
  },
  {
   "cell_type": "markdown",
   "id": "ac8d559a",
   "metadata": {},
   "source": [
    "* No of unique values in each of the features in this dataset"
   ]
  },
  {
   "cell_type": "code",
   "execution_count": 134,
   "id": "65992944",
   "metadata": {},
   "outputs": [
    {
     "data": {
      "text/html": [
       "<div>\n",
       "<style scoped>\n",
       "    .dataframe tbody tr th:only-of-type {\n",
       "        vertical-align: middle;\n",
       "    }\n",
       "\n",
       "    .dataframe tbody tr th {\n",
       "        vertical-align: top;\n",
       "    }\n",
       "\n",
       "    .dataframe thead th {\n",
       "        text-align: right;\n",
       "    }\n",
       "</style>\n",
       "<table border=\"1\" class=\"dataframe\">\n",
       "  <thead>\n",
       "    <tr style=\"text-align: right;\">\n",
       "      <th></th>\n",
       "      <th>vendor_id</th>\n",
       "      <th>passenger_count</th>\n",
       "      <th>pickup_longitude</th>\n",
       "      <th>pickup_latitude</th>\n",
       "      <th>dropoff_longitude</th>\n",
       "      <th>dropoff_latitude</th>\n",
       "      <th>trip_duration</th>\n",
       "    </tr>\n",
       "  </thead>\n",
       "  <tbody>\n",
       "    <tr>\n",
       "      <th>count</th>\n",
       "      <td>729322.000000</td>\n",
       "      <td>729322.000000</td>\n",
       "      <td>729322.000000</td>\n",
       "      <td>729322.000000</td>\n",
       "      <td>729322.000000</td>\n",
       "      <td>729322.000000</td>\n",
       "      <td>7.293220e+05</td>\n",
       "    </tr>\n",
       "    <tr>\n",
       "      <th>mean</th>\n",
       "      <td>1.535403</td>\n",
       "      <td>1.662055</td>\n",
       "      <td>-73.973513</td>\n",
       "      <td>40.750919</td>\n",
       "      <td>-73.973422</td>\n",
       "      <td>40.751775</td>\n",
       "      <td>9.522291e+02</td>\n",
       "    </tr>\n",
       "    <tr>\n",
       "      <th>std</th>\n",
       "      <td>0.498745</td>\n",
       "      <td>1.312446</td>\n",
       "      <td>0.069754</td>\n",
       "      <td>0.033594</td>\n",
       "      <td>0.069588</td>\n",
       "      <td>0.036037</td>\n",
       "      <td>3.864626e+03</td>\n",
       "    </tr>\n",
       "    <tr>\n",
       "      <th>min</th>\n",
       "      <td>1.000000</td>\n",
       "      <td>0.000000</td>\n",
       "      <td>-121.933342</td>\n",
       "      <td>34.712234</td>\n",
       "      <td>-121.933304</td>\n",
       "      <td>32.181141</td>\n",
       "      <td>1.000000e+00</td>\n",
       "    </tr>\n",
       "    <tr>\n",
       "      <th>25%</th>\n",
       "      <td>1.000000</td>\n",
       "      <td>1.000000</td>\n",
       "      <td>-73.991859</td>\n",
       "      <td>40.737335</td>\n",
       "      <td>-73.991318</td>\n",
       "      <td>40.735931</td>\n",
       "      <td>3.970000e+02</td>\n",
       "    </tr>\n",
       "    <tr>\n",
       "      <th>50%</th>\n",
       "      <td>2.000000</td>\n",
       "      <td>1.000000</td>\n",
       "      <td>-73.981758</td>\n",
       "      <td>40.754070</td>\n",
       "      <td>-73.979759</td>\n",
       "      <td>40.754509</td>\n",
       "      <td>6.630000e+02</td>\n",
       "    </tr>\n",
       "    <tr>\n",
       "      <th>75%</th>\n",
       "      <td>2.000000</td>\n",
       "      <td>2.000000</td>\n",
       "      <td>-73.967361</td>\n",
       "      <td>40.768314</td>\n",
       "      <td>-73.963036</td>\n",
       "      <td>40.769741</td>\n",
       "      <td>1.075000e+03</td>\n",
       "    </tr>\n",
       "    <tr>\n",
       "      <th>max</th>\n",
       "      <td>2.000000</td>\n",
       "      <td>9.000000</td>\n",
       "      <td>-65.897385</td>\n",
       "      <td>51.881084</td>\n",
       "      <td>-65.897385</td>\n",
       "      <td>43.921028</td>\n",
       "      <td>1.939736e+06</td>\n",
       "    </tr>\n",
       "  </tbody>\n",
       "</table>\n",
       "</div>"
      ],
      "text/plain": [
       "           vendor_id  passenger_count  pickup_longitude  pickup_latitude  \\\n",
       "count  729322.000000    729322.000000     729322.000000    729322.000000   \n",
       "mean        1.535403         1.662055        -73.973513        40.750919   \n",
       "std         0.498745         1.312446          0.069754         0.033594   \n",
       "min         1.000000         0.000000       -121.933342        34.712234   \n",
       "25%         1.000000         1.000000        -73.991859        40.737335   \n",
       "50%         2.000000         1.000000        -73.981758        40.754070   \n",
       "75%         2.000000         2.000000        -73.967361        40.768314   \n",
       "max         2.000000         9.000000        -65.897385        51.881084   \n",
       "\n",
       "       dropoff_longitude  dropoff_latitude  trip_duration  \n",
       "count      729322.000000     729322.000000   7.293220e+05  \n",
       "mean          -73.973422         40.751775   9.522291e+02  \n",
       "std             0.069588          0.036037   3.864626e+03  \n",
       "min          -121.933304         32.181141   1.000000e+00  \n",
       "25%           -73.991318         40.735931   3.970000e+02  \n",
       "50%           -73.979759         40.754509   6.630000e+02  \n",
       "75%           -73.963036         40.769741   1.075000e+03  \n",
       "max           -65.897385         43.921028   1.939736e+06  "
      ]
     },
     "execution_count": 134,
     "metadata": {},
     "output_type": "execute_result"
    }
   ],
   "source": [
    "df.describe()"
   ]
  },
  {
   "cell_type": "markdown",
   "id": "46dfc8de",
   "metadata": {},
   "source": [
    "* Vendor Id has a minimum value of 1 and maximum value of 2. So there are 2 distinct vendor ids.\n",
    "* There can be 9 passengers at the maximum during the trip. Minimum values of passenger count is 0."
   ]
  },
  {
   "cell_type": "markdown",
   "id": "33def9e6",
   "metadata": {},
   "source": [
    "<b> Timeseries Data"
   ]
  },
  {
   "cell_type": "code",
   "execution_count": 135,
   "id": "8d038905",
   "metadata": {},
   "outputs": [],
   "source": [
    "df['pickup_datetime'] = pd.to_datetime(df['pickup_datetime'])\n",
    "df['dropoff_datetime'] = pd.to_datetime(df['dropoff_datetime'])"
   ]
  },
  {
   "cell_type": "code",
   "execution_count": 136,
   "id": "0ca41cb1",
   "metadata": {},
   "outputs": [],
   "source": [
    "df['trip_day'] = df['pickup_datetime'].dt.weekday\n",
    "df['trip_day_name'] = df['pickup_datetime'].dt.day_name()\n",
    "df['trip_month'] = df['pickup_datetime'].dt.month\n",
    "df['trip_hour'] = df['pickup_datetime'].dt.hour"
   ]
  },
  {
   "cell_type": "code",
   "execution_count": 137,
   "id": "3af74cbe",
   "metadata": {},
   "outputs": [],
   "source": [
    "def time_of_day(x):\n",
    "    if x in range(0,6):\n",
    "        return 'Early Morning'\n",
    "    elif x in range(6, 12):\n",
    "        return 'Morning'\n",
    "    elif x in range(12, 16):\n",
    "        return 'Afternoon'\n",
    "    elif x in range(16,20):\n",
    "        return 'Evening'\n",
    "    else:\n",
    "        return 'Late night'"
   ]
  },
  {
   "cell_type": "code",
   "execution_count": 138,
   "id": "ad60bfb6",
   "metadata": {},
   "outputs": [],
   "source": [
    "df['trip_timeofday'] = df['trip_hour'].apply(time_of_day)"
   ]
  },
  {
   "cell_type": "code",
   "execution_count": 139,
   "id": "3bcd6f25",
   "metadata": {},
   "outputs": [],
   "source": [
    "from geopy.distance import great_circle"
   ]
  },
  {
   "cell_type": "code",
   "execution_count": 140,
   "id": "a299ec41",
   "metadata": {},
   "outputs": [],
   "source": [
    "def cal_distance(pickup_lat,pickup_long, dropoff_lat, dropoff_long):\n",
    "    start_coord = (pickup_lat,pickup_long)\n",
    "    stop_coord =  (dropoff_lat,dropoff_long)\n",
    "    return great_circle(start_coord,stop_coord).miles"
   ]
  },
  {
   "cell_type": "code",
   "execution_count": 141,
   "id": "9ca905c1",
   "metadata": {},
   "outputs": [],
   "source": [
    "df['distance'] = df.apply(lambda x: cal_distance(x['pickup_latitude'],x['pickup_longitude'],x['dropoff_latitude'],x['dropoff_longitude'] ), axis=1)"
   ]
  },
  {
   "cell_type": "code",
   "execution_count": 142,
   "id": "1ce3b268",
   "metadata": {},
   "outputs": [],
   "source": [
    "\n",
    "def dist_range(x):\n",
    "    if 0.0 <= x < 0.5:\n",
    "        return '0 - 0.5'\n",
    "    elif  0.5 <= x < 1:\n",
    "        return '0.5 - 1'\n",
    "    elif 1 <= x < 1.5:\n",
    "        return '1 - 1.5'\n",
    "    elif 1.5 <= x < 2.0:\n",
    "        return '1.5 - 2'\n",
    "    elif 2.0 <= x < 2.5:\n",
    "        return '2 - 2.5'\n",
    "    elif 2.5 <= x < 3.0:\n",
    "        return '2.5 - 3'\n",
    "    else:\n",
    "        return '> 3'"
   ]
  },
  {
   "cell_type": "code",
   "execution_count": 143,
   "id": "d766ba98",
   "metadata": {},
   "outputs": [],
   "source": [
    "df['dist_range'] = df['distance'].apply(dist_range)"
   ]
  },
  {
   "cell_type": "code",
   "execution_count": 144,
   "id": "00f9cfe2",
   "metadata": {},
   "outputs": [
    {
     "data": {
      "text/html": [
       "<div>\n",
       "<style scoped>\n",
       "    .dataframe tbody tr th:only-of-type {\n",
       "        vertical-align: middle;\n",
       "    }\n",
       "\n",
       "    .dataframe tbody tr th {\n",
       "        vertical-align: top;\n",
       "    }\n",
       "\n",
       "    .dataframe thead th {\n",
       "        text-align: right;\n",
       "    }\n",
       "</style>\n",
       "<table border=\"1\" class=\"dataframe\">\n",
       "  <thead>\n",
       "    <tr style=\"text-align: right;\">\n",
       "      <th></th>\n",
       "      <th>id</th>\n",
       "      <th>vendor_id</th>\n",
       "      <th>pickup_datetime</th>\n",
       "      <th>dropoff_datetime</th>\n",
       "      <th>passenger_count</th>\n",
       "      <th>pickup_longitude</th>\n",
       "      <th>pickup_latitude</th>\n",
       "      <th>dropoff_longitude</th>\n",
       "      <th>dropoff_latitude</th>\n",
       "      <th>store_and_fwd_flag</th>\n",
       "      <th>trip_duration</th>\n",
       "      <th>trip_day</th>\n",
       "      <th>trip_day_name</th>\n",
       "      <th>trip_month</th>\n",
       "      <th>trip_hour</th>\n",
       "      <th>trip_timeofday</th>\n",
       "      <th>distance</th>\n",
       "      <th>dist_range</th>\n",
       "    </tr>\n",
       "  </thead>\n",
       "  <tbody>\n",
       "    <tr>\n",
       "      <th>0</th>\n",
       "      <td>id1080784</td>\n",
       "      <td>2</td>\n",
       "      <td>2016-02-29 16:40:21</td>\n",
       "      <td>2016-02-29 16:47:01</td>\n",
       "      <td>1</td>\n",
       "      <td>-73.953918</td>\n",
       "      <td>40.778873</td>\n",
       "      <td>-73.963875</td>\n",
       "      <td>40.771164</td>\n",
       "      <td>N</td>\n",
       "      <td>400</td>\n",
       "      <td>0</td>\n",
       "      <td>Monday</td>\n",
       "      <td>2</td>\n",
       "      <td>16</td>\n",
       "      <td>Evening</td>\n",
       "      <td>0.745070</td>\n",
       "      <td>0.5 - 1</td>\n",
       "    </tr>\n",
       "    <tr>\n",
       "      <th>1</th>\n",
       "      <td>id0889885</td>\n",
       "      <td>1</td>\n",
       "      <td>2016-03-11 23:35:37</td>\n",
       "      <td>2016-03-11 23:53:57</td>\n",
       "      <td>2</td>\n",
       "      <td>-73.988312</td>\n",
       "      <td>40.731743</td>\n",
       "      <td>-73.994751</td>\n",
       "      <td>40.694931</td>\n",
       "      <td>N</td>\n",
       "      <td>1100</td>\n",
       "      <td>4</td>\n",
       "      <td>Friday</td>\n",
       "      <td>3</td>\n",
       "      <td>23</td>\n",
       "      <td>Late night</td>\n",
       "      <td>2.565714</td>\n",
       "      <td>2.5 - 3</td>\n",
       "    </tr>\n",
       "    <tr>\n",
       "      <th>2</th>\n",
       "      <td>id0857912</td>\n",
       "      <td>2</td>\n",
       "      <td>2016-02-21 17:59:33</td>\n",
       "      <td>2016-02-21 18:26:48</td>\n",
       "      <td>2</td>\n",
       "      <td>-73.997314</td>\n",
       "      <td>40.721458</td>\n",
       "      <td>-73.948029</td>\n",
       "      <td>40.774918</td>\n",
       "      <td>N</td>\n",
       "      <td>1635</td>\n",
       "      <td>6</td>\n",
       "      <td>Sunday</td>\n",
       "      <td>2</td>\n",
       "      <td>17</td>\n",
       "      <td>Evening</td>\n",
       "      <td>4.505415</td>\n",
       "      <td>&gt; 3</td>\n",
       "    </tr>\n",
       "    <tr>\n",
       "      <th>3</th>\n",
       "      <td>id3744273</td>\n",
       "      <td>2</td>\n",
       "      <td>2016-01-05 09:44:31</td>\n",
       "      <td>2016-01-05 10:03:32</td>\n",
       "      <td>6</td>\n",
       "      <td>-73.961670</td>\n",
       "      <td>40.759720</td>\n",
       "      <td>-73.956779</td>\n",
       "      <td>40.780628</td>\n",
       "      <td>N</td>\n",
       "      <td>1141</td>\n",
       "      <td>1</td>\n",
       "      <td>Tuesday</td>\n",
       "      <td>1</td>\n",
       "      <td>9</td>\n",
       "      <td>Morning</td>\n",
       "      <td>1.467120</td>\n",
       "      <td>1 - 1.5</td>\n",
       "    </tr>\n",
       "    <tr>\n",
       "      <th>4</th>\n",
       "      <td>id0232939</td>\n",
       "      <td>1</td>\n",
       "      <td>2016-02-17 06:42:23</td>\n",
       "      <td>2016-02-17 06:56:31</td>\n",
       "      <td>1</td>\n",
       "      <td>-74.017120</td>\n",
       "      <td>40.708469</td>\n",
       "      <td>-73.988182</td>\n",
       "      <td>40.740631</td>\n",
       "      <td>N</td>\n",
       "      <td>848</td>\n",
       "      <td>2</td>\n",
       "      <td>Wednesday</td>\n",
       "      <td>2</td>\n",
       "      <td>6</td>\n",
       "      <td>Morning</td>\n",
       "      <td>2.689630</td>\n",
       "      <td>2.5 - 3</td>\n",
       "    </tr>\n",
       "    <tr>\n",
       "      <th>...</th>\n",
       "      <td>...</td>\n",
       "      <td>...</td>\n",
       "      <td>...</td>\n",
       "      <td>...</td>\n",
       "      <td>...</td>\n",
       "      <td>...</td>\n",
       "      <td>...</td>\n",
       "      <td>...</td>\n",
       "      <td>...</td>\n",
       "      <td>...</td>\n",
       "      <td>...</td>\n",
       "      <td>...</td>\n",
       "      <td>...</td>\n",
       "      <td>...</td>\n",
       "      <td>...</td>\n",
       "      <td>...</td>\n",
       "      <td>...</td>\n",
       "      <td>...</td>\n",
       "    </tr>\n",
       "    <tr>\n",
       "      <th>729317</th>\n",
       "      <td>id3905982</td>\n",
       "      <td>2</td>\n",
       "      <td>2016-05-21 13:29:38</td>\n",
       "      <td>2016-05-21 13:34:34</td>\n",
       "      <td>2</td>\n",
       "      <td>-73.965919</td>\n",
       "      <td>40.789780</td>\n",
       "      <td>-73.952637</td>\n",
       "      <td>40.789181</td>\n",
       "      <td>N</td>\n",
       "      <td>296</td>\n",
       "      <td>5</td>\n",
       "      <td>Saturday</td>\n",
       "      <td>5</td>\n",
       "      <td>13</td>\n",
       "      <td>Afternoon</td>\n",
       "      <td>0.696075</td>\n",
       "      <td>0.5 - 1</td>\n",
       "    </tr>\n",
       "    <tr>\n",
       "      <th>729318</th>\n",
       "      <td>id0102861</td>\n",
       "      <td>1</td>\n",
       "      <td>2016-02-22 00:43:11</td>\n",
       "      <td>2016-02-22 00:48:26</td>\n",
       "      <td>1</td>\n",
       "      <td>-73.996666</td>\n",
       "      <td>40.737434</td>\n",
       "      <td>-74.001320</td>\n",
       "      <td>40.731911</td>\n",
       "      <td>N</td>\n",
       "      <td>315</td>\n",
       "      <td>0</td>\n",
       "      <td>Monday</td>\n",
       "      <td>2</td>\n",
       "      <td>0</td>\n",
       "      <td>Early Morning</td>\n",
       "      <td>0.452797</td>\n",
       "      <td>0 - 0.5</td>\n",
       "    </tr>\n",
       "    <tr>\n",
       "      <th>729319</th>\n",
       "      <td>id0439699</td>\n",
       "      <td>1</td>\n",
       "      <td>2016-04-15 18:56:48</td>\n",
       "      <td>2016-04-15 19:08:01</td>\n",
       "      <td>1</td>\n",
       "      <td>-73.997849</td>\n",
       "      <td>40.761696</td>\n",
       "      <td>-74.001488</td>\n",
       "      <td>40.741207</td>\n",
       "      <td>N</td>\n",
       "      <td>673</td>\n",
       "      <td>4</td>\n",
       "      <td>Friday</td>\n",
       "      <td>4</td>\n",
       "      <td>18</td>\n",
       "      <td>Evening</td>\n",
       "      <td>1.428395</td>\n",
       "      <td>1 - 1.5</td>\n",
       "    </tr>\n",
       "    <tr>\n",
       "      <th>729320</th>\n",
       "      <td>id2078912</td>\n",
       "      <td>1</td>\n",
       "      <td>2016-06-19 09:50:47</td>\n",
       "      <td>2016-06-19 09:58:14</td>\n",
       "      <td>1</td>\n",
       "      <td>-74.006706</td>\n",
       "      <td>40.708244</td>\n",
       "      <td>-74.013550</td>\n",
       "      <td>40.713814</td>\n",
       "      <td>N</td>\n",
       "      <td>447</td>\n",
       "      <td>6</td>\n",
       "      <td>Sunday</td>\n",
       "      <td>6</td>\n",
       "      <td>9</td>\n",
       "      <td>Morning</td>\n",
       "      <td>0.525877</td>\n",
       "      <td>0.5 - 1</td>\n",
       "    </tr>\n",
       "    <tr>\n",
       "      <th>729321</th>\n",
       "      <td>id1053441</td>\n",
       "      <td>2</td>\n",
       "      <td>2016-01-01 17:24:16</td>\n",
       "      <td>2016-01-01 17:44:40</td>\n",
       "      <td>4</td>\n",
       "      <td>-74.003342</td>\n",
       "      <td>40.743839</td>\n",
       "      <td>-73.945847</td>\n",
       "      <td>40.712841</td>\n",
       "      <td>N</td>\n",
       "      <td>1224</td>\n",
       "      <td>4</td>\n",
       "      <td>Friday</td>\n",
       "      <td>1</td>\n",
       "      <td>17</td>\n",
       "      <td>Evening</td>\n",
       "      <td>3.694577</td>\n",
       "      <td>&gt; 3</td>\n",
       "    </tr>\n",
       "  </tbody>\n",
       "</table>\n",
       "<p>729322 rows × 18 columns</p>\n",
       "</div>"
      ],
      "text/plain": [
       "               id  vendor_id     pickup_datetime    dropoff_datetime  \\\n",
       "0       id1080784          2 2016-02-29 16:40:21 2016-02-29 16:47:01   \n",
       "1       id0889885          1 2016-03-11 23:35:37 2016-03-11 23:53:57   \n",
       "2       id0857912          2 2016-02-21 17:59:33 2016-02-21 18:26:48   \n",
       "3       id3744273          2 2016-01-05 09:44:31 2016-01-05 10:03:32   \n",
       "4       id0232939          1 2016-02-17 06:42:23 2016-02-17 06:56:31   \n",
       "...           ...        ...                 ...                 ...   \n",
       "729317  id3905982          2 2016-05-21 13:29:38 2016-05-21 13:34:34   \n",
       "729318  id0102861          1 2016-02-22 00:43:11 2016-02-22 00:48:26   \n",
       "729319  id0439699          1 2016-04-15 18:56:48 2016-04-15 19:08:01   \n",
       "729320  id2078912          1 2016-06-19 09:50:47 2016-06-19 09:58:14   \n",
       "729321  id1053441          2 2016-01-01 17:24:16 2016-01-01 17:44:40   \n",
       "\n",
       "        passenger_count  pickup_longitude  pickup_latitude  dropoff_longitude  \\\n",
       "0                     1        -73.953918        40.778873         -73.963875   \n",
       "1                     2        -73.988312        40.731743         -73.994751   \n",
       "2                     2        -73.997314        40.721458         -73.948029   \n",
       "3                     6        -73.961670        40.759720         -73.956779   \n",
       "4                     1        -74.017120        40.708469         -73.988182   \n",
       "...                 ...               ...              ...                ...   \n",
       "729317                2        -73.965919        40.789780         -73.952637   \n",
       "729318                1        -73.996666        40.737434         -74.001320   \n",
       "729319                1        -73.997849        40.761696         -74.001488   \n",
       "729320                1        -74.006706        40.708244         -74.013550   \n",
       "729321                4        -74.003342        40.743839         -73.945847   \n",
       "\n",
       "        dropoff_latitude store_and_fwd_flag  trip_duration  trip_day  \\\n",
       "0              40.771164                  N            400         0   \n",
       "1              40.694931                  N           1100         4   \n",
       "2              40.774918                  N           1635         6   \n",
       "3              40.780628                  N           1141         1   \n",
       "4              40.740631                  N            848         2   \n",
       "...                  ...                ...            ...       ...   \n",
       "729317         40.789181                  N            296         5   \n",
       "729318         40.731911                  N            315         0   \n",
       "729319         40.741207                  N            673         4   \n",
       "729320         40.713814                  N            447         6   \n",
       "729321         40.712841                  N           1224         4   \n",
       "\n",
       "       trip_day_name  trip_month  trip_hour trip_timeofday  distance  \\\n",
       "0             Monday           2         16        Evening  0.745070   \n",
       "1             Friday           3         23     Late night  2.565714   \n",
       "2             Sunday           2         17        Evening  4.505415   \n",
       "3            Tuesday           1          9        Morning  1.467120   \n",
       "4          Wednesday           2          6        Morning  2.689630   \n",
       "...              ...         ...        ...            ...       ...   \n",
       "729317      Saturday           5         13      Afternoon  0.696075   \n",
       "729318        Monday           2          0  Early Morning  0.452797   \n",
       "729319        Friday           4         18        Evening  1.428395   \n",
       "729320        Sunday           6          9        Morning  0.525877   \n",
       "729321        Friday           1         17        Evening  3.694577   \n",
       "\n",
       "       dist_range  \n",
       "0         0.5 - 1  \n",
       "1         2.5 - 3  \n",
       "2             > 3  \n",
       "3         1 - 1.5  \n",
       "4         2.5 - 3  \n",
       "...           ...  \n",
       "729317    0.5 - 1  \n",
       "729318    0 - 0.5  \n",
       "729319    1 - 1.5  \n",
       "729320    0.5 - 1  \n",
       "729321        > 3  \n",
       "\n",
       "[729322 rows x 18 columns]"
      ]
     },
     "execution_count": 144,
     "metadata": {},
     "output_type": "execute_result"
    }
   ],
   "source": [
    "df"
   ]
  },
  {
   "cell_type": "markdown",
   "id": "a0cc0e6f",
   "metadata": {},
   "source": [
    "<b> Exploratory Data Analysis"
   ]
  },
  {
   "cell_type": "markdown",
   "id": "5e5b0be8",
   "metadata": {},
   "source": [
    "<b> Univariate Analysis"
   ]
  },
  {
   "cell_type": "code",
   "execution_count": 145,
   "id": "f5d60856",
   "metadata": {},
   "outputs": [
    {
     "data": {
      "text/plain": [
       "<Axes: xlabel='vendor_id', ylabel='count'>"
      ]
     },
     "execution_count": 145,
     "metadata": {},
     "output_type": "execute_result"
    },
    {
     "data": {
      "image/png": "[encoded data removed]",
      "text/plain": [
       "<Figure size 640x480 with 1 Axes>"
      ]
     },
     "metadata": {},
     "output_type": "display_data"
    }
   ],
   "source": [
    "sns.countplot(x=\"vendor_id\", data=df)"
   ]
  },
  {
   "cell_type": "markdown",
   "id": "a8e705e7",
   "metadata": {},
   "source": [
    "There are 2 different types of vendors in this dataset. There is not much of a difference between two vendors."
   ]
  },
  {
   "cell_type": "code",
   "execution_count": 146,
   "id": "57feebb0",
   "metadata": {},
   "outputs": [
    {
     "data": {
      "text/plain": [
       "0.000000    2901\n",
       "0.000264      21\n",
       "0.000264      19\n",
       "0.000264      16\n",
       "0.000791      11\n",
       "            ... \n",
       "1.820096       1\n",
       "0.607483       1\n",
       "0.574907       1\n",
       "2.555086       1\n",
       "3.694577       1\n",
       "Name: distance, Length: 726241, dtype: int64"
      ]
     },
     "execution_count": 146,
     "metadata": {},
     "output_type": "execute_result"
    }
   ],
   "source": [
    "df['distance'].value_counts()"
   ]
  },
  {
   "cell_type": "markdown",
   "id": "6c1871c5",
   "metadata": {},
   "source": [
    "1. There are about 2901 trips wherein the distance is recorded as 0 miles. Did the driver missed to record the drop off and pick\n",
    "up location on these trips or did the passenger cancel these trips?\n"
   ]
  },
  {
   "cell_type": "code",
   "execution_count": 147,
   "id": "e5909719",
   "metadata": {
    "scrolled": true
   },
   "outputs": [
    {
     "data": {
      "text/plain": [
       "<Axes: xlabel='distance', ylabel='Count'>"
      ]
     },
     "execution_count": 147,
     "metadata": {},
     "output_type": "execute_result"
    },
    {
     "data": {
      "image/png": "[encoded data removed]",
      "text/plain": [
       "<Figure size 640x480 with 1 Axes>"
      ]
     },
     "metadata": {},
     "output_type": "display_data"
    }
   ],
   "source": [
    "sns.histplot(df['distance'], binwidth=5)"
   ]
  },
  {
   "cell_type": "code",
   "execution_count": 148,
   "id": "d6771448",
   "metadata": {},
   "outputs": [
    {
     "data": {
      "text/plain": [
       "<Axes: xlabel='dist_range', ylabel='count'>"
      ]
     },
     "execution_count": 148,
     "metadata": {},
     "output_type": "execute_result"
    },
    {
     "data": {
      "image/png": "[encoded data removed]",
      "text/plain": [
       "<Figure size 640x480 with 1 Axes>"
      ]
     },
     "metadata": {},
     "output_type": "display_data"
    }
   ],
   "source": [
    "sns.countplot(x=\"dist_range\", data=df)"
   ]
  },
  {
   "cell_type": "markdown",
   "id": "c1e00eb9",
   "metadata": {},
   "source": [
    "* There is not much to interpret from histogram of distance\n",
    "* When plotted based on the distance range, most of the rides in the range 0.5 -1, followed by 1 - 1.5 and then > 3"
   ]
  },
  {
   "cell_type": "code",
   "execution_count": 149,
   "id": "904976f2",
   "metadata": {},
   "outputs": [
    {
     "data": {
      "text/plain": [
       "<Axes: xlabel='trip_timeofday', ylabel='count'>"
      ]
     },
     "execution_count": 149,
     "metadata": {},
     "output_type": "execute_result"
    },
    {
     "data": {
      "image/png": "[encoded data removed]",
      "text/plain": [
       "<Figure size 640x480 with 1 Axes>"
      ]
     },
     "metadata": {},
     "output_type": "display_data"
    }
   ],
   "source": [
    "sns.countplot(x=\"trip_timeofday\", data=df)"
   ]
  },
  {
   "cell_type": "markdown",
   "id": "c34cec9d",
   "metadata": {},
   "source": [
    "* Majority of the rides are in the morning\n",
    "* Number of rides between evening and latenight is not much different "
   ]
  },
  {
   "cell_type": "code",
   "execution_count": 150,
   "id": "e6ab279d",
   "metadata": {},
   "outputs": [
    {
     "data": {
      "text/plain": [
       "1    517415\n",
       "2    105097\n",
       "5     38926\n",
       "3     29692\n",
       "6     24107\n",
       "4     14050\n",
       "0        33\n",
       "7         1\n",
       "9         1\n",
       "Name: passenger_count, dtype: int64"
      ]
     },
     "execution_count": 150,
     "metadata": {},
     "output_type": "execute_result"
    }
   ],
   "source": [
    "df.passenger_count.value_counts()"
   ]
  },
  {
   "cell_type": "markdown",
   "id": "e305cf19",
   "metadata": {},
   "source": [
    "There are very few trips wherein the passenger count is record as 0. There are only 33 such records"
   ]
  },
  {
   "cell_type": "code",
   "execution_count": 151,
   "id": "ac783900",
   "metadata": {},
   "outputs": [
    {
     "data": {
      "text/plain": [
       "<Axes: xlabel='passenger_count', ylabel='count'>"
      ]
     },
     "execution_count": 151,
     "metadata": {},
     "output_type": "execute_result"
    },
    {
     "data": {
      "image/png": "[encoded data removed]",
      "text/plain": [
       "<Figure size 640x480 with 1 Axes>"
      ]
     },
     "metadata": {},
     "output_type": "display_data"
    }
   ],
   "source": [
    "sns.countplot(x=\"passenger_count\", data=df)"
   ]
  },
  {
   "cell_type": "markdown",
   "id": "e85d458d",
   "metadata": {},
   "source": [
    "* Majority of the trips are with single passenger\n",
    "* There are very few trips wherein there were more than one passenger\n",
    "* No of trips with passenger count 7 and 9 is only one"
   ]
  },
  {
   "cell_type": "code",
   "execution_count": 152,
   "id": "c3782d53",
   "metadata": {},
   "outputs": [
    {
     "data": {
      "text/plain": [
       "2"
      ]
     },
     "execution_count": 152,
     "metadata": {},
     "output_type": "execute_result"
    }
   ],
   "source": [
    "df['store_and_fwd_flag'].nunique()"
   ]
  },
  {
   "cell_type": "code",
   "execution_count": 153,
   "id": "83348c0d",
   "metadata": {},
   "outputs": [
    {
     "data": {
      "text/plain": [
       "N    725282\n",
       "Y      4040\n",
       "Name: store_and_fwd_flag, dtype: int64"
      ]
     },
     "execution_count": 153,
     "metadata": {},
     "output_type": "execute_result"
    }
   ],
   "source": [
    "df['store_and_fwd_flag'].value_counts()"
   ]
  },
  {
   "cell_type": "markdown",
   "id": "ff0763de",
   "metadata": {},
   "source": [
    "* Majority of the trips are recorded with the value N for Store and forward flag."
   ]
  },
  {
   "cell_type": "code",
   "execution_count": 154,
   "id": "efd52ed7",
   "metadata": {},
   "outputs": [
    {
     "data": {
      "text/plain": [
       "<Axes: xlabel='trip_hour', ylabel='count'>"
      ]
     },
     "execution_count": 154,
     "metadata": {},
     "output_type": "execute_result"
    },
    {
     "data": {
      "image/png": "[encoded data removed]",
      "text/plain": [
       "<Figure size 640x480 with 1 Axes>"
      ]
     },
     "metadata": {},
     "output_type": "display_data"
    }
   ],
   "source": [
    "sns.countplot(x=\"trip_hour\", data=df)"
   ]
  },
  {
   "cell_type": "markdown",
   "id": "536e18bc",
   "metadata": {},
   "source": [
    "* Highest number of trips are recording during the evening hrs between 6 pm and 10 pm\n",
    "* There are trips during every hour of the day\n",
    "* Count of trips seems to be almost the same between 8 am and 4 pm\n"
   ]
  },
  {
   "cell_type": "code",
   "execution_count": 155,
   "id": "46b900f3",
   "metadata": {},
   "outputs": [
    {
     "data": {
      "text/plain": [
       "<Axes: xlabel='trip_day_name', ylabel='count'>"
      ]
     },
     "execution_count": 155,
     "metadata": {},
     "output_type": "execute_result"
    },
    {
     "data": {
      "image/png": "[encoded data removed]",
      "text/plain": [
       "<Figure size 640x480 with 1 Axes>"
      ]
     },
     "metadata": {},
     "output_type": "display_data"
    }
   ],
   "source": [
    "sns.countplot(x=\"trip_day_name\", data=df)"
   ]
  },
  {
   "cell_type": "markdown",
   "id": "048a9735",
   "metadata": {},
   "source": [
    "* Highest number of trips is recorded on Friday\n",
    "* Lowest number of trips are records on Monday\n",
    "* Drivers are busy during the weekend as well. Volume of trips on Saturday is same as Thursday. \n",
    "* Number of trips on Sunday is higher than the same on Monday"
   ]
  },
  {
   "cell_type": "markdown",
   "id": "81b871d9",
   "metadata": {},
   "source": [
    "<b> Bivariate Analysis"
   ]
  },
  {
   "cell_type": "code",
   "execution_count": 157,
   "id": "2f7e1733",
   "metadata": {},
   "outputs": [
    {
     "data": {
      "text/plain": [
       "vendor_id              int64\n",
       "passenger_count        int64\n",
       "pickup_longitude     float64\n",
       "pickup_latitude      float64\n",
       "dropoff_longitude    float64\n",
       "dropoff_latitude     float64\n",
       "trip_duration          int64\n",
       "trip_day               int64\n",
       "trip_month             int64\n",
       "trip_hour              int64\n",
       "distance             float64\n",
       "dtype: object"
      ]
     },
     "execution_count": 157,
     "metadata": {},
     "output_type": "execute_result"
    }
   ],
   "source": [
    "# isolating numerical datatypes\n",
    "numerical = df.select_dtypes(include=['int64','float64','Int64'])[:]\n",
    "numerical.dtypes"
   ]
  },
  {
   "cell_type": "code",
   "execution_count": 158,
   "id": "5c0d02da",
   "metadata": {
    "scrolled": true
   },
   "outputs": [
    {
     "data": {
      "text/html": [
       "<div>\n",
       "<style scoped>\n",
       "    .dataframe tbody tr th:only-of-type {\n",
       "        vertical-align: middle;\n",
       "    }\n",
       "\n",
       "    .dataframe tbody tr th {\n",
       "        vertical-align: top;\n",
       "    }\n",
       "\n",
       "    .dataframe thead th {\n",
       "        text-align: right;\n",
       "    }\n",
       "</style>\n",
       "<table border=\"1\" class=\"dataframe\">\n",
       "  <thead>\n",
       "    <tr style=\"text-align: right;\">\n",
       "      <th></th>\n",
       "      <th>vendor_id</th>\n",
       "      <th>passenger_count</th>\n",
       "      <th>pickup_longitude</th>\n",
       "      <th>pickup_latitude</th>\n",
       "      <th>dropoff_longitude</th>\n",
       "      <th>dropoff_latitude</th>\n",
       "      <th>trip_duration</th>\n",
       "      <th>trip_day</th>\n",
       "      <th>trip_month</th>\n",
       "      <th>trip_hour</th>\n",
       "      <th>distance</th>\n",
       "    </tr>\n",
       "  </thead>\n",
       "  <tbody>\n",
       "    <tr>\n",
       "      <th>vendor_id</th>\n",
       "      <td>1.000000</td>\n",
       "      <td>0.286463</td>\n",
       "      <td>0.008198</td>\n",
       "      <td>0.002861</td>\n",
       "      <td>0.002371</td>\n",
       "      <td>0.005259</td>\n",
       "      <td>0.027752</td>\n",
       "      <td>0.000787</td>\n",
       "      <td>-0.005363</td>\n",
       "      <td>0.009772</td>\n",
       "      <td>0.006510</td>\n",
       "    </tr>\n",
       "    <tr>\n",
       "      <th>passenger_count</th>\n",
       "      <td>0.286463</td>\n",
       "      <td>1.000000</td>\n",
       "      <td>0.001163</td>\n",
       "      <td>-0.004696</td>\n",
       "      <td>-0.000027</td>\n",
       "      <td>-0.003944</td>\n",
       "      <td>0.013022</td>\n",
       "      <td>0.025758</td>\n",
       "      <td>-0.001481</td>\n",
       "      <td>0.009851</td>\n",
       "      <td>0.009175</td>\n",
       "    </tr>\n",
       "    <tr>\n",
       "      <th>pickup_longitude</th>\n",
       "      <td>0.008198</td>\n",
       "      <td>0.001163</td>\n",
       "      <td>1.000000</td>\n",
       "      <td>0.047635</td>\n",
       "      <td>0.780647</td>\n",
       "      <td>0.118473</td>\n",
       "      <td>0.035447</td>\n",
       "      <td>-0.016031</td>\n",
       "      <td>0.004037</td>\n",
       "      <td>0.010754</td>\n",
       "      <td>0.251482</td>\n",
       "    </tr>\n",
       "    <tr>\n",
       "      <th>pickup_latitude</th>\n",
       "      <td>0.002861</td>\n",
       "      <td>-0.004696</td>\n",
       "      <td>0.047635</td>\n",
       "      <td>1.000000</td>\n",
       "      <td>0.119970</td>\n",
       "      <td>0.479352</td>\n",
       "      <td>-0.038163</td>\n",
       "      <td>-0.029073</td>\n",
       "      <td>-0.000165</td>\n",
       "      <td>0.011433</td>\n",
       "      <td>-0.128455</td>\n",
       "    </tr>\n",
       "    <tr>\n",
       "      <th>dropoff_longitude</th>\n",
       "      <td>0.002371</td>\n",
       "      <td>-0.000027</td>\n",
       "      <td>0.780647</td>\n",
       "      <td>0.119970</td>\n",
       "      <td>1.000000</td>\n",
       "      <td>0.149598</td>\n",
       "      <td>0.020664</td>\n",
       "      <td>-0.001473</td>\n",
       "      <td>0.003883</td>\n",
       "      <td>-0.022014</td>\n",
       "      <td>0.132353</td>\n",
       "    </tr>\n",
       "    <tr>\n",
       "      <th>dropoff_latitude</th>\n",
       "      <td>0.005259</td>\n",
       "      <td>-0.003944</td>\n",
       "      <td>0.118473</td>\n",
       "      <td>0.479352</td>\n",
       "      <td>0.149598</td>\n",
       "      <td>1.000000</td>\n",
       "      <td>-0.028283</td>\n",
       "      <td>-0.022028</td>\n",
       "      <td>-0.000580</td>\n",
       "      <td>0.014257</td>\n",
       "      <td>-0.153760</td>\n",
       "    </tr>\n",
       "    <tr>\n",
       "      <th>trip_duration</th>\n",
       "      <td>0.027752</td>\n",
       "      <td>0.013022</td>\n",
       "      <td>0.035447</td>\n",
       "      <td>-0.038163</td>\n",
       "      <td>0.020664</td>\n",
       "      <td>-0.028283</td>\n",
       "      <td>1.000000</td>\n",
       "      <td>-0.002302</td>\n",
       "      <td>0.009378</td>\n",
       "      <td>0.002979</td>\n",
       "      <td>0.125772</td>\n",
       "    </tr>\n",
       "    <tr>\n",
       "      <th>trip_day</th>\n",
       "      <td>0.000787</td>\n",
       "      <td>0.025758</td>\n",
       "      <td>-0.016031</td>\n",
       "      <td>-0.029073</td>\n",
       "      <td>-0.001473</td>\n",
       "      <td>-0.022028</td>\n",
       "      <td>-0.002302</td>\n",
       "      <td>1.000000</td>\n",
       "      <td>-0.013626</td>\n",
       "      <td>-0.082079</td>\n",
       "      <td>0.007786</td>\n",
       "    </tr>\n",
       "    <tr>\n",
       "      <th>trip_month</th>\n",
       "      <td>-0.005363</td>\n",
       "      <td>-0.001481</td>\n",
       "      <td>0.004037</td>\n",
       "      <td>-0.000165</td>\n",
       "      <td>0.003883</td>\n",
       "      <td>-0.000580</td>\n",
       "      <td>0.009378</td>\n",
       "      <td>-0.013626</td>\n",
       "      <td>1.000000</td>\n",
       "      <td>-0.003301</td>\n",
       "      <td>0.016581</td>\n",
       "    </tr>\n",
       "    <tr>\n",
       "      <th>trip_hour</th>\n",
       "      <td>0.009772</td>\n",
       "      <td>0.009851</td>\n",
       "      <td>0.010754</td>\n",
       "      <td>0.011433</td>\n",
       "      <td>-0.022014</td>\n",
       "      <td>0.014257</td>\n",
       "      <td>0.002979</td>\n",
       "      <td>-0.082079</td>\n",
       "      <td>-0.003301</td>\n",
       "      <td>1.000000</td>\n",
       "      <td>-0.016269</td>\n",
       "    </tr>\n",
       "    <tr>\n",
       "      <th>distance</th>\n",
       "      <td>0.006510</td>\n",
       "      <td>0.009175</td>\n",
       "      <td>0.251482</td>\n",
       "      <td>-0.128455</td>\n",
       "      <td>0.132353</td>\n",
       "      <td>-0.153760</td>\n",
       "      <td>0.125772</td>\n",
       "      <td>0.007786</td>\n",
       "      <td>0.016581</td>\n",
       "      <td>-0.016269</td>\n",
       "      <td>1.000000</td>\n",
       "    </tr>\n",
       "  </tbody>\n",
       "</table>\n",
       "</div>"
      ],
      "text/plain": [
       "                   vendor_id  passenger_count  pickup_longitude  \\\n",
       "vendor_id           1.000000         0.286463          0.008198   \n",
       "passenger_count     0.286463         1.000000          0.001163   \n",
       "pickup_longitude    0.008198         0.001163          1.000000   \n",
       "pickup_latitude     0.002861        -0.004696          0.047635   \n",
       "dropoff_longitude   0.002371        -0.000027          0.780647   \n",
       "dropoff_latitude    0.005259        -0.003944          0.118473   \n",
       "trip_duration       0.027752         0.013022          0.035447   \n",
       "trip_day            0.000787         0.025758         -0.016031   \n",
       "trip_month         -0.005363        -0.001481          0.004037   \n",
       "trip_hour           0.009772         0.009851          0.010754   \n",
       "distance            0.006510         0.009175          0.251482   \n",
       "\n",
       "                   pickup_latitude  dropoff_longitude  dropoff_latitude  \\\n",
       "vendor_id                 0.002861           0.002371          0.005259   \n",
       "passenger_count          -0.004696          -0.000027         -0.003944   \n",
       "pickup_longitude          0.047635           0.780647          0.118473   \n",
       "pickup_latitude           1.000000           0.119970          0.479352   \n",
       "dropoff_longitude         0.119970           1.000000          0.149598   \n",
       "dropoff_latitude          0.479352           0.149598          1.000000   \n",
       "trip_duration            -0.038163           0.020664         -0.028283   \n",
       "trip_day                 -0.029073          -0.001473         -0.022028   \n",
       "trip_month               -0.000165           0.003883         -0.000580   \n",
       "trip_hour                 0.011433          -0.022014          0.014257   \n",
       "distance                 -0.128455           0.132353         -0.153760   \n",
       "\n",
       "                   trip_duration  trip_day  trip_month  trip_hour  distance  \n",
       "vendor_id               0.027752  0.000787   -0.005363   0.009772  0.006510  \n",
       "passenger_count         0.013022  0.025758   -0.001481   0.009851  0.009175  \n",
       "pickup_longitude        0.035447 -0.016031    0.004037   0.010754  0.251482  \n",
       "pickup_latitude        -0.038163 -0.029073   -0.000165   0.011433 -0.128455  \n",
       "dropoff_longitude       0.020664 -0.001473    0.003883  -0.022014  0.132353  \n",
       "dropoff_latitude       -0.028283 -0.022028   -0.000580   0.014257 -0.153760  \n",
       "trip_duration           1.000000 -0.002302    0.009378   0.002979  0.125772  \n",
       "trip_day               -0.002302  1.000000   -0.013626  -0.082079  0.007786  \n",
       "trip_month              0.009378 -0.013626    1.000000  -0.003301  0.016581  \n",
       "trip_hour               0.002979 -0.082079   -0.003301   1.000000 -0.016269  \n",
       "distance                0.125772  0.007786    0.016581  -0.016269  1.000000  "
      ]
     },
     "execution_count": 158,
     "metadata": {},
     "output_type": "execute_result"
    }
   ],
   "source": [
    "# calculating correlation\n",
    "correlation = numerical.dropna().corr()\n",
    "correlation\n"
   ]
  },
  {
   "cell_type": "code",
   "execution_count": 167,
   "id": "b4b1d144",
   "metadata": {},
   "outputs": [],
   "source": [
    "c = numerical.corr().abs()\n",
    "s = c.unstack()\n",
    "so = s.sort_values(kind=\"quicksort\", ascending=False)\n",
    "so = pd.DataFrame(so, columns=['Pearson Correlation'])"
   ]
  },
  {
   "cell_type": "code",
   "execution_count": 162,
   "id": "9b995452",
   "metadata": {},
   "outputs": [
    {
     "data": {
      "text/html": [
       "<div>\n",
       "<style scoped>\n",
       "    .dataframe tbody tr th:only-of-type {\n",
       "        vertical-align: middle;\n",
       "    }\n",
       "\n",
       "    .dataframe tbody tr th {\n",
       "        vertical-align: top;\n",
       "    }\n",
       "\n",
       "    .dataframe thead th {\n",
       "        text-align: right;\n",
       "    }\n",
       "</style>\n",
       "<table border=\"1\" class=\"dataframe\">\n",
       "  <thead>\n",
       "    <tr style=\"text-align: right;\">\n",
       "      <th></th>\n",
       "      <th></th>\n",
       "      <th>Pearson Correlation</th>\n",
       "    </tr>\n",
       "  </thead>\n",
       "  <tbody>\n",
       "    <tr>\n",
       "      <th>pickup_longitude</th>\n",
       "      <th>dropoff_longitude</th>\n",
       "      <td>0.780647</td>\n",
       "    </tr>\n",
       "    <tr>\n",
       "      <th>dropoff_longitude</th>\n",
       "      <th>pickup_longitude</th>\n",
       "      <td>0.780647</td>\n",
       "    </tr>\n",
       "    <tr>\n",
       "      <th>dropoff_latitude</th>\n",
       "      <th>pickup_latitude</th>\n",
       "      <td>0.479352</td>\n",
       "    </tr>\n",
       "    <tr>\n",
       "      <th>pickup_latitude</th>\n",
       "      <th>dropoff_latitude</th>\n",
       "      <td>0.479352</td>\n",
       "    </tr>\n",
       "    <tr>\n",
       "      <th>passenger_count</th>\n",
       "      <th>vendor_id</th>\n",
       "      <td>0.286463</td>\n",
       "    </tr>\n",
       "    <tr>\n",
       "      <th>vendor_id</th>\n",
       "      <th>passenger_count</th>\n",
       "      <td>0.286463</td>\n",
       "    </tr>\n",
       "    <tr>\n",
       "      <th>distance</th>\n",
       "      <th>pickup_longitude</th>\n",
       "      <td>0.251482</td>\n",
       "    </tr>\n",
       "    <tr>\n",
       "      <th>pickup_longitude</th>\n",
       "      <th>distance</th>\n",
       "      <td>0.251482</td>\n",
       "    </tr>\n",
       "    <tr>\n",
       "      <th>distance</th>\n",
       "      <th>dropoff_latitude</th>\n",
       "      <td>0.153760</td>\n",
       "    </tr>\n",
       "    <tr>\n",
       "      <th>dropoff_latitude</th>\n",
       "      <th>distance</th>\n",
       "      <td>0.153760</td>\n",
       "    </tr>\n",
       "    <tr>\n",
       "      <th>dropoff_longitude</th>\n",
       "      <th>dropoff_latitude</th>\n",
       "      <td>0.149598</td>\n",
       "    </tr>\n",
       "    <tr>\n",
       "      <th>dropoff_latitude</th>\n",
       "      <th>dropoff_longitude</th>\n",
       "      <td>0.149598</td>\n",
       "    </tr>\n",
       "    <tr>\n",
       "      <th>distance</th>\n",
       "      <th>dropoff_longitude</th>\n",
       "      <td>0.132353</td>\n",
       "    </tr>\n",
       "    <tr>\n",
       "      <th>dropoff_longitude</th>\n",
       "      <th>distance</th>\n",
       "      <td>0.132353</td>\n",
       "    </tr>\n",
       "    <tr>\n",
       "      <th>distance</th>\n",
       "      <th>pickup_latitude</th>\n",
       "      <td>0.128455</td>\n",
       "    </tr>\n",
       "    <tr>\n",
       "      <th>pickup_latitude</th>\n",
       "      <th>distance</th>\n",
       "      <td>0.128455</td>\n",
       "    </tr>\n",
       "    <tr>\n",
       "      <th>distance</th>\n",
       "      <th>trip_duration</th>\n",
       "      <td>0.125772</td>\n",
       "    </tr>\n",
       "    <tr>\n",
       "      <th>trip_duration</th>\n",
       "      <th>distance</th>\n",
       "      <td>0.125772</td>\n",
       "    </tr>\n",
       "    <tr>\n",
       "      <th>pickup_latitude</th>\n",
       "      <th>dropoff_longitude</th>\n",
       "      <td>0.119970</td>\n",
       "    </tr>\n",
       "    <tr>\n",
       "      <th>dropoff_longitude</th>\n",
       "      <th>pickup_latitude</th>\n",
       "      <td>0.119970</td>\n",
       "    </tr>\n",
       "  </tbody>\n",
       "</table>\n",
       "</div>"
      ],
      "text/plain": [
       "                                     Pearson Correlation\n",
       "pickup_longitude  dropoff_longitude             0.780647\n",
       "dropoff_longitude pickup_longitude              0.780647\n",
       "dropoff_latitude  pickup_latitude               0.479352\n",
       "pickup_latitude   dropoff_latitude              0.479352\n",
       "passenger_count   vendor_id                     0.286463\n",
       "vendor_id         passenger_count               0.286463\n",
       "distance          pickup_longitude              0.251482\n",
       "pickup_longitude  distance                      0.251482\n",
       "distance          dropoff_latitude              0.153760\n",
       "dropoff_latitude  distance                      0.153760\n",
       "dropoff_longitude dropoff_latitude              0.149598\n",
       "dropoff_latitude  dropoff_longitude             0.149598\n",
       "distance          dropoff_longitude             0.132353\n",
       "dropoff_longitude distance                      0.132353\n",
       "distance          pickup_latitude               0.128455\n",
       "pickup_latitude   distance                      0.128455\n",
       "distance          trip_duration                 0.125772\n",
       "trip_duration     distance                      0.125772\n",
       "pickup_latitude   dropoff_longitude             0.119970\n",
       "dropoff_longitude pickup_latitude               0.119970"
      ]
     },
     "execution_count": 162,
     "metadata": {},
     "output_type": "execute_result"
    }
   ],
   "source": [
    "so[so['Pearson Correlation'] < 1].head(20)"
   ]
  },
  {
   "cell_type": "markdown",
   "id": "be6140aa",
   "metadata": {},
   "source": [
    "* Variables - droff and pickup coordinates are highly correlated. So one of those can be dropped while building the model"
   ]
  },
  {
   "cell_type": "markdown",
   "id": "0036c146",
   "metadata": {},
   "source": [
    "<b> Multivariate Analysis"
   ]
  },
  {
   "cell_type": "code",
   "execution_count": 165,
   "id": "12278c9c",
   "metadata": {},
   "outputs": [
    {
     "data": {
      "text/html": [
       "<div>\n",
       "<style scoped>\n",
       "    .dataframe tbody tr th:only-of-type {\n",
       "        vertical-align: middle;\n",
       "    }\n",
       "\n",
       "    .dataframe tbody tr th {\n",
       "        vertical-align: top;\n",
       "    }\n",
       "\n",
       "    .dataframe thead th {\n",
       "        text-align: right;\n",
       "    }\n",
       "</style>\n",
       "<table border=\"1\" class=\"dataframe\">\n",
       "  <thead>\n",
       "    <tr style=\"text-align: right;\">\n",
       "      <th></th>\n",
       "      <th>vendor_id</th>\n",
       "      <th>1</th>\n",
       "      <th>2</th>\n",
       "    </tr>\n",
       "    <tr>\n",
       "      <th>trip_day_name</th>\n",
       "      <th>store_and_fwd_flag</th>\n",
       "      <th></th>\n",
       "      <th></th>\n",
       "    </tr>\n",
       "  </thead>\n",
       "  <tbody>\n",
       "    <tr>\n",
       "      <th rowspan=\"2\" valign=\"top\">Friday</th>\n",
       "      <th>N</th>\n",
       "      <td>860.090584</td>\n",
       "      <td>1100.384200</td>\n",
       "    </tr>\n",
       "    <tr>\n",
       "      <th>Y</th>\n",
       "      <td>1132.332344</td>\n",
       "      <td>NaN</td>\n",
       "    </tr>\n",
       "    <tr>\n",
       "      <th rowspan=\"2\" valign=\"top\">Monday</th>\n",
       "      <th>N</th>\n",
       "      <td>798.944705</td>\n",
       "      <td>970.962559</td>\n",
       "    </tr>\n",
       "    <tr>\n",
       "      <th>Y</th>\n",
       "      <td>1149.941620</td>\n",
       "      <td>NaN</td>\n",
       "    </tr>\n",
       "    <tr>\n",
       "      <th rowspan=\"2\" valign=\"top\">Saturday</th>\n",
       "      <th>N</th>\n",
       "      <td>774.552947</td>\n",
       "      <td>1033.077079</td>\n",
       "    </tr>\n",
       "    <tr>\n",
       "      <th>Y</th>\n",
       "      <td>904.347197</td>\n",
       "      <td>NaN</td>\n",
       "    </tr>\n",
       "    <tr>\n",
       "      <th rowspan=\"2\" valign=\"top\">Sunday</th>\n",
       "      <th>N</th>\n",
       "      <td>753.916357</td>\n",
       "      <td>1013.377520</td>\n",
       "    </tr>\n",
       "    <tr>\n",
       "      <th>Y</th>\n",
       "      <td>955.223577</td>\n",
       "      <td>NaN</td>\n",
       "    </tr>\n",
       "    <tr>\n",
       "      <th rowspan=\"2\" valign=\"top\">Thursday</th>\n",
       "      <th>N</th>\n",
       "      <td>883.540366</td>\n",
       "      <td>1109.087182</td>\n",
       "    </tr>\n",
       "    <tr>\n",
       "      <th>Y</th>\n",
       "      <td>1166.995461</td>\n",
       "      <td>NaN</td>\n",
       "    </tr>\n",
       "    <tr>\n",
       "      <th rowspan=\"2\" valign=\"top\">Tuesday</th>\n",
       "      <th>N</th>\n",
       "      <td>886.143981</td>\n",
       "      <td>1059.411619</td>\n",
       "    </tr>\n",
       "    <tr>\n",
       "      <th>Y</th>\n",
       "      <td>1123.170055</td>\n",
       "      <td>NaN</td>\n",
       "    </tr>\n",
       "    <tr>\n",
       "      <th rowspan=\"2\" valign=\"top\">Wednesday</th>\n",
       "      <th>N</th>\n",
       "      <td>871.671036</td>\n",
       "      <td>1063.997373</td>\n",
       "    </tr>\n",
       "    <tr>\n",
       "      <th>Y</th>\n",
       "      <td>1191.023810</td>\n",
       "      <td>NaN</td>\n",
       "    </tr>\n",
       "  </tbody>\n",
       "</table>\n",
       "</div>"
      ],
      "text/plain": [
       "vendor_id                                   1            2\n",
       "trip_day_name store_and_fwd_flag                          \n",
       "Friday        N                    860.090584  1100.384200\n",
       "              Y                   1132.332344          NaN\n",
       "Monday        N                    798.944705   970.962559\n",
       "              Y                   1149.941620          NaN\n",
       "Saturday      N                    774.552947  1033.077079\n",
       "              Y                    904.347197          NaN\n",
       "Sunday        N                    753.916357  1013.377520\n",
       "              Y                    955.223577          NaN\n",
       "Thursday      N                    883.540366  1109.087182\n",
       "              Y                   1166.995461          NaN\n",
       "Tuesday       N                    886.143981  1059.411619\n",
       "              Y                   1123.170055          NaN\n",
       "Wednesday     N                    871.671036  1063.997373\n",
       "              Y                   1191.023810          NaN"
      ]
     },
     "execution_count": 165,
     "metadata": {},
     "output_type": "execute_result"
    }
   ],
   "source": [
    "df.pivot_table('trip_duration', ['trip_day_name', 'store_and_fwd_flag'], 'vendor_id', aggfunc='mean')"
   ]
  },
  {
   "cell_type": "markdown",
   "id": "5283bdab",
   "metadata": {},
   "source": [
    "* Trip duration is not recorded by Vendor ID -2 when trip record is held in vehicle memory\n",
    "* Mean of the trip duration is high during the weekdays compared to weekends."
   ]
  },
  {
   "cell_type": "code",
   "execution_count": null,
   "id": "b73315b6",
   "metadata": {},
   "outputs": [],
   "source": []
  }
 ],
 "metadata": {
  "kernelspec": {
   "display_name": "Python 3 (ipykernel)",
   "language": "python",
   "name": "python3"
  },
  "language_info": {
   "codemirror_mode": {
    "name": "ipython",
    "version": 3
   },
   "file_extension": ".py",
   "mimetype": "text/x-python",
   "name": "python",
   "nbconvert_exporter": "python",
   "pygments_lexer": "ipython3",
   "version": "3.11.4"
  }
 },
 "nbformat": 4,
 "nbformat_minor": 5
}
